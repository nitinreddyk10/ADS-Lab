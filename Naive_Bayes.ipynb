{
  "nbformat": 4,
  "nbformat_minor": 0,
  "metadata": {
    "colab": {
      "provenance": []
    },
    "kernelspec": {
      "name": "python3",
      "display_name": "Python 3"
    },
    "language_info": {
      "name": "python"
    }
  },
  "cells": [
    {
      "cell_type": "code",
      "execution_count": null,
      "metadata": {
        "id": "lkdZZrB_wnX-"
      },
      "outputs": [],
      "source": [
        "# Assigning features and label variables\n",
        "weather=['Sunny','Sunny','Overcast','Rainy','Rainy','Rainy','Overcast','Sunny','Sunny',\n",
        "'Rainy','Sunny','Overcast','Overcast','Rainy']\n",
        "temp=['Hot','Hot','Hot','Mild','Cool','Cool','Cool','Mild','Cool','Mild','Mild','Mild','Hot','Mild']\n",
        "play=['No','No','Yes','Yes','Yes','No','Yes','No','Yes','Yes','Yes','Yes','Yes','No']\n"
      ]
    },
    {
      "cell_type": "markdown",
      "source": [
        "# **Encoding Features**\n",
        "Convert these string labels into numbers. for example: 'Overcast', 'Rainy', 'Sunny' as 0, 1, 2. \n",
        "\n",
        "This is known as label encoding.\n",
        "\n",
        " Scikit-learn provides LabelEncoder library for encoding labels with a value between 0 and one less than the number of discrete classes."
      ],
      "metadata": {
        "id": "dM4uK9F9wxFQ"
      }
    },
    {
      "cell_type": "code",
      "source": [
        "# Import LabelEncoder\n",
        "from sklearn import preprocessing\n",
        "#creating labelEncoder\n",
        "le = preprocessing.LabelEncoder()\n",
        "# Converting string labels into numbers.\n",
        "weather_encoded=le.fit_transform(weather)\n",
        "print (\"weather\",weather_encoded)"
      ],
      "metadata": {
        "colab": {
          "base_uri": "https://localhost:8080/"
        },
        "id": "VFHlXmMwwwd5",
        "outputId": "b554da47-ebb0-42b4-e292-0f0e1afc1994"
      },
      "execution_count": null,
      "outputs": [
        {
          "output_type": "stream",
          "name": "stdout",
          "text": [
            "weather [2 2 0 1 1 1 0 2 2 1 2 0 0 1]\n"
          ]
        }
      ]
    },
    {
      "cell_type": "code",
      "source": [
        "# Converting string labels into numbers\n",
        "temp_encoded=le.fit_transform(temp)\n",
        "label=le.fit_transform(play)\n",
        "print (\"Temp:\",temp_encoded)\n",
        "print (\"Play:\",label)\n"
      ],
      "metadata": {
        "colab": {
          "base_uri": "https://localhost:8080/"
        },
        "id": "keiRx824xNZo",
        "outputId": "31f9d9d8-5fed-4c66-a3e3-fc7859fee008"
      },
      "execution_count": null,
      "outputs": [
        {
          "output_type": "stream",
          "name": "stdout",
          "text": [
            "Temp: [1 1 1 2 0 0 0 2 0 2 2 2 1 2]\n",
            "Play: [0 0 1 1 1 0 1 0 1 1 1 1 1 0]\n"
          ]
        }
      ]
    },
    {
      "cell_type": "markdown",
      "source": [
        " **Combine both the features (weather and temp) in a single variable (list of tuples)**"
      ],
      "metadata": {
        "id": "nNTkLFN5xbbH"
      }
    },
    {
      "cell_type": "code",
      "source": [
        "#Combinig weather and temp into single listof tuples\n",
        "import numpy as np\n",
        "features=np.array(list(zip(weather_encoded,temp_encoded)))\n",
        "print (features)\n"
      ],
      "metadata": {
        "colab": {
          "base_uri": "https://localhost:8080/"
        },
        "id": "QKTc8Ei8xa4g",
        "outputId": "64145bfa-b3c5-47dc-a20d-765aed341fc9"
      },
      "execution_count": null,
      "outputs": [
        {
          "output_type": "stream",
          "name": "stdout",
          "text": [
            "[[2 1]\n",
            " [2 1]\n",
            " [0 1]\n",
            " [1 2]\n",
            " [1 0]\n",
            " [1 0]\n",
            " [0 0]\n",
            " [2 2]\n",
            " [2 0]\n",
            " [1 2]\n",
            " [2 2]\n",
            " [0 2]\n",
            " [0 1]\n",
            " [1 2]]\n"
          ]
        }
      ]
    },
    {
      "cell_type": "code",
      "source": [
        "print(type(features))\n",
        "print(type(label))\n",
        "print(features.shape)\n",
        "print(label.shape)"
      ],
      "metadata": {
        "colab": {
          "base_uri": "https://localhost:8080/"
        },
        "id": "BOt8iDB0yxQp",
        "outputId": "a02d2181-f3bb-4521-b5f3-05141d7b7a0d"
      },
      "execution_count": null,
      "outputs": [
        {
          "output_type": "stream",
          "name": "stdout",
          "text": [
            "<class 'numpy.ndarray'>\n",
            "<class 'numpy.ndarray'>\n",
            "(14, 2)\n",
            "(14,)\n"
          ]
        }
      ]
    },
    {
      "cell_type": "markdown",
      "source": [
        "# **Generating Model**\n",
        "Generate a model using naive bayes classifier in the following steps:\n",
        "\n",
        "1.Create naive bayes classifier\n",
        "\n",
        "2. Fit the dataset on classifier\n",
        "\n",
        "3. Perform prediction"
      ],
      "metadata": {
        "id": "iknFJ7W-yIXw"
      }
    },
    {
      "cell_type": "code",
      "source": [
        "#Import Gaussian Naive Bayes model\n",
        "from sklearn.naive_bayes import GaussianNB\n",
        "\n",
        "#Create a Gaussian Classifier\n",
        "model = GaussianNB()\n",
        "\n",
        "# Train the model using the training sets\n",
        "model.fit(features,label)\n",
        "\n",
        "#Predict Output\n",
        "predicted= model.predict([[0,2]]) # 0:Overcast, 2:Mild\n",
        "print (\"Predicted Value:\", predicted)\n"
      ],
      "metadata": {
        "colab": {
          "base_uri": "https://localhost:8080/"
        },
        "id": "KdlgH4uOyH8W",
        "outputId": "d9b02758-a020-4a32-ee55-00e25922b61a"
      },
      "execution_count": null,
      "outputs": [
        {
          "output_type": "stream",
          "name": "stdout",
          "text": [
            "Predicted Value: [1]\n"
          ]
        }
      ]
    },
    {
      "cell_type": "markdown",
      "source": [
        "# **Multiclassification**"
      ],
      "metadata": {
        "id": "k7hB8jjDM5Yy"
      }
    },
    {
      "cell_type": "code",
      "source": [
        "# load the iris dataset\n",
        "from sklearn.datasets import load_iris\n",
        "iris = load_iris()\n",
        "\n",
        "# store the feature matrix (X) and response vector (y)\n",
        "X = iris.data\n",
        "y = iris.target\n",
        "print (\"Features: \", iris.feature_names)\n",
        "print (\"Labels: \", iris.target_names)"
      ],
      "metadata": {
        "colab": {
          "base_uri": "https://localhost:8080/"
        },
        "id": "q4Ol3Lmxy5hT",
        "outputId": "4d47cf3b-0fcb-48ed-ba13-65bd366e3b6d"
      },
      "execution_count": null,
      "outputs": [
        {
          "output_type": "stream",
          "name": "stdout",
          "text": [
            "Features:  ['sepal length (cm)', 'sepal width (cm)', 'petal length (cm)', 'petal width (cm)']\n",
            "Labels:  ['setosa' 'versicolor' 'virginica']\n"
          ]
        }
      ]
    },
    {
      "cell_type": "code",
      "source": [
        "# splitting X and y into training and testing sets\n",
        "from sklearn.model_selection import train_test_split\n",
        "X_train, X_test, y_train, y_test = train_test_split(X, y, test_size=0.4, random_state=1)"
      ],
      "metadata": {
        "id": "FwdiMTtA0qFI"
      },
      "execution_count": null,
      "outputs": []
    },
    {
      "cell_type": "code",
      "source": [
        "# training the model on training set\n",
        "from sklearn.naive_bayes import GaussianNB\n",
        "gnb = GaussianNB()\n",
        "gnb.fit(X_train, y_train)\n",
        "# making predictions on the testing set\n",
        "y_pred = gnb.predict(X_test)"
      ],
      "metadata": {
        "id": "htp0wQBr0tlW"
      },
      "execution_count": null,
      "outputs": []
    },
    {
      "cell_type": "code",
      "source": [
        "# comparing actual response values (y_test) with predicted response values (y_pred)\n",
        "from sklearn import metrics\n",
        "print(\"Gaussian Naive Bayes model accuracy(in %):\", metrics.accuracy_score(y_test, y_pred)*100)"
      ],
      "metadata": {
        "colab": {
          "base_uri": "https://localhost:8080/"
        },
        "id": "72N9VGsQ0wx1",
        "outputId": "50483183-30a1-45d5-de51-e25cbf5151c3"
      },
      "execution_count": null,
      "outputs": [
        {
          "output_type": "stream",
          "name": "stdout",
          "text": [
            "Gaussian Naive Bayes model accuracy(in %): 95.0\n"
          ]
        }
      ]
    },
    {
      "cell_type": "code",
      "source": [
        "print(type(X_train))\n",
        "print(type(y_train))\n",
        "print(X_train.shape)\n",
        "print(y_train.shape)"
      ],
      "metadata": {
        "colab": {
          "base_uri": "https://localhost:8080/"
        },
        "id": "FeB7j_Tmy9Hh",
        "outputId": "af5f1363-b7a7-4d2a-b657-937fa3f0cbc7"
      },
      "execution_count": null,
      "outputs": [
        {
          "output_type": "stream",
          "name": "stdout",
          "text": [
            "<class 'numpy.ndarray'>\n",
            "<class 'numpy.ndarray'>\n",
            "(90, 4)\n",
            "(90,)\n"
          ]
        }
      ]
    }
  ]
}